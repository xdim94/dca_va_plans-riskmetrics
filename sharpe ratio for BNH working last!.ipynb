{
 "cells": [
  {
   "cell_type": "code",
   "execution_count": 19,
   "id": "de921efc",
   "metadata": {},
   "outputs": [
    {
     "name": "stdout",
     "output_type": "stream",
     "text": [
      "           Index  Sharpe Ratio\n",
      "DAX          DAX      0.547393\n",
      "CAC 40    CAC 40      0.364615\n",
      "EUSTX50  EUSTX50      0.254813\n",
      "IT40        IT40      0.156823\n",
      "IBEX 35  IBEX 35     -0.034949\n"
     ]
    }
   ],
   "source": [
    "import pandas as pd\n",
    "import numpy as np\n",
    "from scipy import stats\n",
    "\n",
    "# Load Europe prices monthly data\n",
    "df1 = pd.read_csv('europe indices monthly.csv')\n",
    "\n",
    "# Load German bond data\n",
    "df_bond = pd.read_csv('german bond.csv')\n",
    "# Convert date columns to consistent format\n",
    "df1['Date'] = pd.to_datetime(df1['Date'])\n",
    "df_bond['Date'] = pd.to_datetime(df_bond['Date'])\n",
    "\n",
    "# Set the date columns as the DataFrame index\n",
    "df1.set_index('Date', inplace=True)\n",
    "df_bond.set_index('Date', inplace=True)\n",
    "\n",
    "# Calculate monthly returns for each index\n",
    "returns = df1.pct_change().dropna()\n",
    "\n",
    "# Calculate excess returns over German bond\n",
    "df1_excess = returns.sub(df_bond['GER 10Y Bond'], axis='rows')\n",
    "\n",
    "# Calculate annualized mean return and standard deviation\n",
    "mean_returns = df1_excess.mean() * 12\n",
    "std_returns = df1_excess.std() * np.sqrt(12)\n",
    "\n",
    "# Calculate risk-free rate (assumed to be 0 in this example)\n",
    "risk_free_rate = -0.0002\n",
    "\n",
    "# Calculate Sharpe ratio\n",
    "sharpe_ratio = (mean_returns - risk_free_rate) / std_returns\n",
    "\n",
    "# Create a DataFrame to store the Sharpe ratio results\n",
    "df_sharpe_ratio = pd.DataFrame({'Index': sharpe_ratio.index, 'Sharpe Ratio': sharpe_ratio})\n",
    "\n",
    "# Sort the DataFrame by Sharpe ratio in descending order\n",
    "df_sharpe_ratio = df_sharpe_ratio.sort_values(by='Sharpe Ratio', ascending=False)\n",
    "\n",
    "# Print the results\n",
    "print(df_sharpe_ratio)\n"
   ]
  },
  {
   "cell_type": "code",
   "execution_count": 39,
   "id": "085841b1",
   "metadata": {},
   "outputs": [
    {
     "name": "stdout",
     "output_type": "stream",
     "text": [
      "     Index Jensen Alpha\n",
      "3      DAX  -639.245899\n",
      "1   CAC 40  -655.228603\n",
      "0  EUSTX50  -679.201207\n",
      "2  IBEX 35  -759.109568\n",
      "4     IT40   -807.05167\n"
     ]
    },
    {
     "name": "stderr",
     "output_type": "stream",
     "text": [
      "C:\\Users\\cdimopoulos\\AppData\\Local\\Temp\\ipykernel_7460\\2213983273.py:23: FutureWarning: The frame.append method is deprecated and will be removed from pandas in a future version. Use pandas.concat instead.\n",
      "  df_jensen_alpha = df_jensen_alpha.append({'Index': index, 'Jensen Alpha': alpha}, ignore_index=True)\n",
      "C:\\Users\\cdimopoulos\\AppData\\Local\\Temp\\ipykernel_7460\\2213983273.py:23: FutureWarning: The frame.append method is deprecated and will be removed from pandas in a future version. Use pandas.concat instead.\n",
      "  df_jensen_alpha = df_jensen_alpha.append({'Index': index, 'Jensen Alpha': alpha}, ignore_index=True)\n",
      "C:\\Users\\cdimopoulos\\AppData\\Local\\Temp\\ipykernel_7460\\2213983273.py:23: FutureWarning: The frame.append method is deprecated and will be removed from pandas in a future version. Use pandas.concat instead.\n",
      "  df_jensen_alpha = df_jensen_alpha.append({'Index': index, 'Jensen Alpha': alpha}, ignore_index=True)\n",
      "C:\\Users\\cdimopoulos\\AppData\\Local\\Temp\\ipykernel_7460\\2213983273.py:23: FutureWarning: The frame.append method is deprecated and will be removed from pandas in a future version. Use pandas.concat instead.\n",
      "  df_jensen_alpha = df_jensen_alpha.append({'Index': index, 'Jensen Alpha': alpha}, ignore_index=True)\n",
      "C:\\Users\\cdimopoulos\\AppData\\Local\\Temp\\ipykernel_7460\\2213983273.py:23: FutureWarning: The frame.append method is deprecated and will be removed from pandas in a future version. Use pandas.concat instead.\n",
      "  df_jensen_alpha = df_jensen_alpha.append({'Index': index, 'Jensen Alpha': alpha}, ignore_index=True)\n"
     ]
    }
   ],
   "source": [
    "market_returns=pd.read_csv('europe benchmark.csv')\n",
    "# Define the beta values for each index\n",
    "beta_values = {\n",
    "    'EUSTX50': 0.85,\n",
    "    'CAC 40': 0.82,\n",
    "    'IBEX 35': 0.95,\n",
    "    'DAX': 0.80,\n",
    "    'IT40': 1.01\n",
    "}\n",
    "\n",
    "\n",
    "\n",
    "\n",
    "# Create a DataFrame to store the Jensen's alpha results\n",
    "df_jensen_alpha = pd.DataFrame(columns=['Index', 'Jensen Alpha'])\n",
    "\n",
    "# Iterate over each index and calculate Jensen's alpha\n",
    "for index in df1_excess.columns:\n",
    "    if index != 'Jensen Alpha':\n",
    "        beta = beta_values[index]\n",
    "        expected_returns = risk_free_rate + beta * (market_returns['MSCI'] - risk_free_rate)\n",
    "        alpha = df1_excess[index].sub(expected_returns, fill_value=0).mean()\n",
    "        df_jensen_alpha = df_jensen_alpha.append({'Index': index, 'Jensen Alpha': alpha}, ignore_index=True)\n",
    "\n",
    "# Sort the DataFrame by Jensen's alpha in descending order\n",
    "df_jensen_alpha = df_jensen_alpha.sort_values(by='Jensen Alpha', ascending=False)\n",
    "\n",
    "# Print the results\n",
    "print(df_jensen_alpha)\n"
   ]
  },
  {
   "cell_type": "code",
   "execution_count": 26,
   "id": "12a5cf85",
   "metadata": {},
   "outputs": [
    {
     "name": "stdout",
     "output_type": "stream",
     "text": [
      "     Index Treynor Ratio\n",
      "3      DAX      0.010955\n",
      "1   CAC 40      0.007151\n",
      "0  EUSTX50      0.005209\n",
      "4     IT40      0.003609\n",
      "2  IBEX 35      0.000298\n"
     ]
    },
    {
     "name": "stderr",
     "output_type": "stream",
     "text": [
      "C:\\Users\\cdimopoulos\\AppData\\Local\\Temp\\ipykernel_7460\\2406351413.py:9: FutureWarning: The frame.append method is deprecated and will be removed from pandas in a future version. Use pandas.concat instead.\n",
      "  df_treynor_ratio = df_treynor_ratio.append({'Index': index, 'Treynor Ratio': treynor_ratio}, ignore_index=True)\n",
      "C:\\Users\\cdimopoulos\\AppData\\Local\\Temp\\ipykernel_7460\\2406351413.py:9: FutureWarning: The frame.append method is deprecated and will be removed from pandas in a future version. Use pandas.concat instead.\n",
      "  df_treynor_ratio = df_treynor_ratio.append({'Index': index, 'Treynor Ratio': treynor_ratio}, ignore_index=True)\n",
      "C:\\Users\\cdimopoulos\\AppData\\Local\\Temp\\ipykernel_7460\\2406351413.py:9: FutureWarning: The frame.append method is deprecated and will be removed from pandas in a future version. Use pandas.concat instead.\n",
      "  df_treynor_ratio = df_treynor_ratio.append({'Index': index, 'Treynor Ratio': treynor_ratio}, ignore_index=True)\n",
      "C:\\Users\\cdimopoulos\\AppData\\Local\\Temp\\ipykernel_7460\\2406351413.py:9: FutureWarning: The frame.append method is deprecated and will be removed from pandas in a future version. Use pandas.concat instead.\n",
      "  df_treynor_ratio = df_treynor_ratio.append({'Index': index, 'Treynor Ratio': treynor_ratio}, ignore_index=True)\n",
      "C:\\Users\\cdimopoulos\\AppData\\Local\\Temp\\ipykernel_7460\\2406351413.py:9: FutureWarning: The frame.append method is deprecated and will be removed from pandas in a future version. Use pandas.concat instead.\n",
      "  df_treynor_ratio = df_treynor_ratio.append({'Index': index, 'Treynor Ratio': treynor_ratio}, ignore_index=True)\n"
     ]
    }
   ],
   "source": [
    "# Create a DataFrame to store the Treynor ratio results\n",
    "df_treynor_ratio = pd.DataFrame(columns=['Index', 'Treynor Ratio'])\n",
    "\n",
    "# Iterate over each index and calculate the Treynor ratio\n",
    "for index in df1_excess.columns:\n",
    "    if index != 'Jensen Alpha':\n",
    "        beta = beta_values[index]\n",
    "        treynor_ratio = df1_excess[index].mean() / beta\n",
    "        df_treynor_ratio = df_treynor_ratio.append({'Index': index, 'Treynor Ratio': treynor_ratio}, ignore_index=True)\n",
    "\n",
    "# Sort the DataFrame by Treynor ratio in descending order\n",
    "df_treynor_ratio = df_treynor_ratio.sort_values(by='Treynor Ratio', ascending=False)\n",
    "\n",
    "# Print the results\n",
    "print(df_treynor_ratio)\n"
   ]
  },
  {
   "cell_type": "code",
   "execution_count": 27,
   "id": "bee1ef22",
   "metadata": {},
   "outputs": [
    {
     "name": "stdout",
     "output_type": "stream",
     "text": [
      "     Index Sortino Ratio\n",
      "3      DAX      0.243212\n",
      "1   CAC 40      0.188416\n",
      "0  EUSTX50      0.140486\n",
      "4     IT40      0.086505\n",
      "2  IBEX 35      0.007206\n"
     ]
    },
    {
     "name": "stderr",
     "output_type": "stream",
     "text": [
      "C:\\Users\\cdimopoulos\\AppData\\Local\\Temp\\ipykernel_7460\\4017336777.py:19: FutureWarning: The frame.append method is deprecated and will be removed from pandas in a future version. Use pandas.concat instead.\n",
      "  df_sortino_ratio = df_sortino_ratio.append({'Index': index, 'Sortino Ratio': sortino_ratio}, ignore_index=True)\n",
      "C:\\Users\\cdimopoulos\\AppData\\Local\\Temp\\ipykernel_7460\\4017336777.py:19: FutureWarning: The frame.append method is deprecated and will be removed from pandas in a future version. Use pandas.concat instead.\n",
      "  df_sortino_ratio = df_sortino_ratio.append({'Index': index, 'Sortino Ratio': sortino_ratio}, ignore_index=True)\n",
      "C:\\Users\\cdimopoulos\\AppData\\Local\\Temp\\ipykernel_7460\\4017336777.py:19: FutureWarning: The frame.append method is deprecated and will be removed from pandas in a future version. Use pandas.concat instead.\n",
      "  df_sortino_ratio = df_sortino_ratio.append({'Index': index, 'Sortino Ratio': sortino_ratio}, ignore_index=True)\n",
      "C:\\Users\\cdimopoulos\\AppData\\Local\\Temp\\ipykernel_7460\\4017336777.py:19: FutureWarning: The frame.append method is deprecated and will be removed from pandas in a future version. Use pandas.concat instead.\n",
      "  df_sortino_ratio = df_sortino_ratio.append({'Index': index, 'Sortino Ratio': sortino_ratio}, ignore_index=True)\n",
      "C:\\Users\\cdimopoulos\\AppData\\Local\\Temp\\ipykernel_7460\\4017336777.py:19: FutureWarning: The frame.append method is deprecated and will be removed from pandas in a future version. Use pandas.concat instead.\n",
      "  df_sortino_ratio = df_sortino_ratio.append({'Index': index, 'Sortino Ratio': sortino_ratio}, ignore_index=True)\n"
     ]
    }
   ],
   "source": [
    "# Define the target return or minimum acceptable return\n",
    "target_return = 0\n",
    "\n",
    "# Create a DataFrame to store the Sortino ratio results\n",
    "df_sortino_ratio = pd.DataFrame(columns=['Index', 'Sortino Ratio'])\n",
    "\n",
    "# Iterate over each index and calculate the Sortino ratio\n",
    "for index in df1_excess.columns:\n",
    "    if index != 'Jensen Alpha':\n",
    "        excess_returns = df1_excess[index]\n",
    "        downside_returns = excess_returns[excess_returns < target_return]\n",
    "        downside_deviation = downside_returns.std()\n",
    "        \n",
    "        if downside_deviation == 0:\n",
    "            sortino_ratio = np.inf  # Handle zero downside deviation case\n",
    "        else:\n",
    "            sortino_ratio = excess_returns.mean() / downside_deviation\n",
    "        \n",
    "        df_sortino_ratio = df_sortino_ratio.append({'Index': index, 'Sortino Ratio': sortino_ratio}, ignore_index=True)\n",
    "\n",
    "# Sort the DataFrame by Sortino ratio in descending order\n",
    "df_sortino_ratio = df_sortino_ratio.sort_values(by='Sortino Ratio', ascending=False)\n",
    "\n",
    "# Print the results\n",
    "print(df_sortino_ratio)\n"
   ]
  },
  {
   "cell_type": "code",
   "execution_count": 51,
   "id": "22d9a18b",
   "metadata": {},
   "outputs": [
    {
     "name": "stdout",
     "output_type": "stream",
     "text": [
      "Empty DataFrame\n",
      "Columns: [Index, Jensen Alpha]\n",
      "Index: []\n"
     ]
    }
   ],
   "source": [
    "import pandas as pd\n",
    "\n",
    "# Define the risk-free rate\n",
    "risk_free_rate = 0.03\n",
    "\n",
    "# Read the market returns data\n",
    "market_returns = pd.read_csv('europe benchmark.csv')\n",
    "\n",
    "# Define the beta values for each index\n",
    "beta_values = {\n",
    "    'EUSTX50': 0.85,\n",
    "    'CAC 40': 0.82,\n",
    "    'IBEX 35': 0.95,\n",
    "    'DAX': 0.80,\n",
    "    'IT40': 1.01\n",
    "}\n",
    "\n",
    "# Create a DataFrame to store the Jensen's alpha results\n",
    "df_jensen_alpha = pd.DataFrame(columns=['Index', 'Jensen Alpha'])\n",
    "\n",
    "# Select the benchmark returns column\n",
    "benchmark_returns = market_returns.iloc[:, 1]\n",
    "\n",
    "# Iterate over each index and calculate Jensen's alpha\n",
    "for index in market_returns.columns[2:]:\n",
    "    beta = beta_values[index]\n",
    "    expected_returns = risk_free_rate + beta * (benchmark_returns - risk_free_rate)\n",
    "    alpha = market_returns[index].sub(expected_returns, fill_value=0).mean()\n",
    "    df_jensen_alpha = df_jensen_alpha.append({'Index': index, 'Jensen Alpha': alpha}, ignore_index=True)\n",
    "\n",
    "# Drop rows with missing values\n",
    "df_jensen_alpha.dropna(inplace=True)\n",
    "\n",
    "# Sort the DataFrame by Jensen's alpha in descending order\n",
    "df_jensen_alpha = df_jensen_alpha.sort_values(by='Jensen Alpha', ascending=False)\n",
    "\n",
    "# Print the results\n",
    "print(df_jensen_alpha)\n",
    "\n"
   ]
  },
  {
   "cell_type": "code",
   "execution_count": null,
   "id": "5b3cda19",
   "metadata": {},
   "outputs": [],
   "source": []
  }
 ],
 "metadata": {
  "kernelspec": {
   "display_name": "Python 3 (ipykernel)",
   "language": "python",
   "name": "python3"
  },
  "language_info": {
   "codemirror_mode": {
    "name": "ipython",
    "version": 3
   },
   "file_extension": ".py",
   "mimetype": "text/x-python",
   "name": "python",
   "nbconvert_exporter": "python",
   "pygments_lexer": "ipython3",
   "version": "3.9.12"
  }
 },
 "nbformat": 4,
 "nbformat_minor": 5
}
