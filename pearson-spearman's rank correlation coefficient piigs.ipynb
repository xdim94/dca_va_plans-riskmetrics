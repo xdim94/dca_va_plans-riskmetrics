{
 "cells": [
  {
   "cell_type": "code",
   "execution_count": 5,
   "id": "d2fab888",
   "metadata": {},
   "outputs": [
    {
     "name": "stdout",
     "output_type": "stream",
     "text": [
      "            Date      IT40   IBEX35         GDAT         ISEQ   PSI\n",
      "0       1/4/2010  23545.02  11966.1  2189.719971  3097.760010  8602\n",
      "1       1/5/2010  23555.73  11958.3  2277.600098  3071.520020  8672\n",
      "2       1/6/2010  23622.29  11999.8  2310.110107  3087.929932  8680\n",
      "3       1/7/2010  23709.01  11845.0  2327.570068  3070.469971  8766\n",
      "4       1/8/2010  23811.13  11870.7  2315.310059  3080.750000  8821\n",
      "...          ...       ...      ...          ...          ...   ...\n",
      "3059  12/22/2021  26827.93   8459.1   910.230010  8245.950000  5462\n",
      "3060  12/23/2021  27016.22   8563.7   911.120000  8369.690000  5432\n",
      "3061  12/27/2021  27231.20   8622.1   912.220000  8372.350000  5473\n",
      "3062  12/28/2021  27444.93   8688.9   899.670000  8372.350000  5423\n",
      "3063  12/29/2021  27344.25   8673.7   895.740000  8372.350000  5416\n",
      "\n",
      "[3064 rows x 6 columns]\n",
      "          IT40    IBEX35      GDAT      ISEQ       PSI\n",
      "0          NaN       NaN       NaN       NaN       NaN\n",
      "1     0.000455 -0.000652  0.040133 -0.008471  0.008138\n",
      "2     0.002826  0.003470  0.014274  0.005343  0.000923\n",
      "3     0.003671 -0.012900  0.007558 -0.005654  0.009908\n",
      "4     0.004307  0.002170 -0.005267  0.003348  0.006274\n",
      "...        ...       ...       ...       ...       ...\n",
      "3059  0.006552  0.008537  0.005946  0.006302  0.007192\n",
      "3060  0.007018  0.012365  0.000978  0.015006 -0.005492\n",
      "3061  0.007957  0.006819  0.001207  0.000318  0.007548\n",
      "3062  0.007849  0.007748 -0.013758  0.000000 -0.009136\n",
      "3063 -0.003668 -0.001749 -0.004368  0.000000 -0.001291\n",
      "\n",
      "[3064 rows x 5 columns]\n"
     ]
    }
   ],
   "source": [
    "import pandas as pd\n",
    "import numpy as np\n",
    "df = pd.read_csv('piigss.csv')\n",
    "\n",
    "df = df.drop(df.index[-1])\n",
    "\n",
    "\n",
    "print(df)\n",
    "returns = df.drop(columns='Date').pct_change() \n",
    "print(returns)"
   ]
  },
  {
   "cell_type": "code",
   "execution_count": 6,
   "id": "8a814475",
   "metadata": {},
   "outputs": [
    {
     "name": "stdout",
     "output_type": "stream",
     "text": [
      "\n",
      "NaN values in returns:\n",
      "   IT40  IBEX35  GDAT  ISEQ  PSI\n",
      "0   NaN     NaN   NaN   NaN  NaN\n",
      "\n",
      "Infinite values in returns:\n",
      "Empty DataFrame\n",
      "Columns: [IT40, IBEX35, GDAT, ISEQ, PSI]\n",
      "Index: []\n"
     ]
    }
   ],
   "source": [
    "\n",
    "nan_returns = returns[np.isnan(returns).any(axis=1)]\n",
    "inf_returns = returns[np.isinf(returns).any(axis=1)]\n",
    "print(\"\\nNaN values in returns:\")\n",
    "print(nan_returns)\n",
    "print(\"\\nInfinite values in returns:\")\n",
    "print(inf_returns)\n"
   ]
  },
  {
   "cell_type": "code",
   "execution_count": 7,
   "id": "e2fe2b96",
   "metadata": {},
   "outputs": [
    {
     "name": "stdout",
     "output_type": "stream",
     "text": [
      "          IT40    IBEX35      GDAT      ISEQ       PSI\n",
      "0          NaN       NaN       NaN       NaN       NaN\n",
      "1     0.000455 -0.000652  0.040133 -0.008471  0.008138\n",
      "2     0.002826  0.003470  0.014274  0.005343  0.000923\n",
      "3     0.003671 -0.012900  0.007558 -0.005654  0.009908\n",
      "4     0.004307  0.002170 -0.005267  0.003348  0.006274\n",
      "...        ...       ...       ...       ...       ...\n",
      "3059  0.006552  0.008537  0.005946  0.006302  0.007192\n",
      "3060  0.007018  0.012365  0.000978  0.015006 -0.005492\n",
      "3061  0.007957  0.006819  0.001207  0.000318  0.007548\n",
      "3062  0.007849  0.007748 -0.013758  0.000000 -0.009136\n",
      "3063 -0.003668 -0.001749 -0.004368  0.000000 -0.001291\n",
      "\n",
      "[3064 rows x 5 columns]\n"
     ]
    }
   ],
   "source": [
    "returns = df.drop(columns='Date').pct_change() \n",
    "print(returns)\n"
   ]
  },
  {
   "cell_type": "code",
   "execution_count": 8,
   "id": "677baf76",
   "metadata": {
    "scrolled": true
   },
   "outputs": [
    {
     "name": "stdout",
     "output_type": "stream",
     "text": [
      "Cleaned returns DataFrame:\n",
      "          IT40    IBEX35      GDAT      ISEQ       PSI\n",
      "1     0.000455 -0.000652  0.040133 -0.008471  0.008138\n",
      "2     0.002826  0.003470  0.014274  0.005343  0.000923\n",
      "3     0.003671 -0.012900  0.007558 -0.005654  0.009908\n",
      "4     0.004307  0.002170 -0.005267  0.003348  0.006274\n",
      "5    -0.001527  0.012796 -0.050006  0.006145 -0.000227\n",
      "...        ...       ...       ...       ...       ...\n",
      "3059  0.006552  0.008537  0.005946  0.006302  0.007192\n",
      "3060  0.007018  0.012365  0.000978  0.015006 -0.005492\n",
      "3061  0.007957  0.006819  0.001207  0.000318  0.007548\n",
      "3062  0.007849  0.007748 -0.013758  0.000000 -0.009136\n",
      "3063 -0.003668 -0.001749 -0.004368  0.000000 -0.001291\n",
      "\n",
      "[3063 rows x 5 columns]\n"
     ]
    }
   ],
   "source": [
    "returns_clean = returns.dropna()\n",
    "\n",
    "\n",
    "print(\"Cleaned returns DataFrame:\")\n",
    "print(returns_clean)\n"
   ]
  },
  {
   "cell_type": "code",
   "execution_count": 9,
   "id": "3061606b",
   "metadata": {},
   "outputs": [
    {
     "name": "stdout",
     "output_type": "stream",
     "text": [
      "Correlation Matrix:\n",
      "            IT40    IBEX35      GDAT      ISEQ       PSI\n",
      "IT40    1.000000  0.079377  0.006494  0.005670  0.076098\n",
      "IBEX35  0.079377  1.000000 -0.008937  0.027375 -0.007659\n",
      "GDAT    0.006494 -0.008937  1.000000 -0.014924  0.023260\n",
      "ISEQ    0.005670  0.027375 -0.014924  1.000000  0.032471\n",
      "PSI     0.076098 -0.007659  0.023260  0.032471  1.000000\n"
     ]
    }
   ],
   "source": [
    "\n",
    "correlation_matrix = returns_clean.corr(method='pearson')\n",
    "\n",
    "print(\"Correlation Matrix:\")\n",
    "print(correlation_matrix)\n"
   ]
  },
  {
   "cell_type": "code",
   "execution_count": 10,
   "id": "72c93475",
   "metadata": {},
   "outputs": [
    {
     "data": {
      "image/png": "[encoded data removed]",
      "text/plain": [
       "<Figure size 720x576 with 2 Axes>"
      ]
     },
     "metadata": {
      "needs_background": "light"
     },
     "output_type": "display_data"
    }
   ],
   "source": [
    "import seaborn as sns\n",
    "import matplotlib.pyplot as plt\n",
    "\n",
    "\n",
    "plt.figure(figsize=(10, 8))\n",
    "sns.heatmap(correlation_matrix, annot=True, cmap='coolwarm', fmt=\".2f\")\n",
    "plt.title(\"Pearson Correlation Matrix\")\n",
    "plt.xlabel(\"Indices\")\n",
    "plt.ylabel(\"Indices\")\n",
    "plt.show()\n"
   ]
  },
  {
   "cell_type": "code",
   "execution_count": 11,
   "id": "ef6e054f",
   "metadata": {},
   "outputs": [
    {
     "name": "stdout",
     "output_type": "stream",
     "text": [
      "P-values for Significance Testing:\n",
      "            IT40    IBEX35      GDAT      ISEQ       PSI\n",
      "IT40         NaN  0.000011  0.719403  0.753766  0.000025\n",
      "IBEX35  0.000011       NaN  0.621005  0.129842  0.671753\n",
      "GDAT    0.719403  0.621005       NaN  0.408984  0.198111\n",
      "ISEQ    0.753766  0.129842  0.408984       NaN  0.072367\n",
      "PSI     0.000025  0.671753  0.198111  0.072367       NaN\n"
     ]
    }
   ],
   "source": [
    "from scipy.stats import pearsonr\n",
    "\n",
    "p_values = pd.DataFrame(index=returns_clean.columns, columns=returns_clean.columns)\n",
    "\n",
    "for i in returns_clean.columns:\n",
    "    for j in returns_clean.columns:\n",
    "        if i != j:\n",
    "            corr, p_value = pearsonr(returns_clean[i], returns_clean[j])\n",
    "            p_values.loc[i, j] = p_value\n",
    "\n",
    "\n",
    "print(\"P-values for Significance Testing:\")\n",
    "print(p_values)\n"
   ]
  },
  {
   "cell_type": "code",
   "execution_count": 12,
   "id": "9f4a2bfb",
   "metadata": {},
   "outputs": [
    {
     "name": "stdout",
     "output_type": "stream",
     "text": [
      "Significance Interpretation:\n",
      "                   IT40           IBEX35             GDAT             ISEQ  \\\n",
      "IT40                NaN      Significant  Not Significant  Not Significant   \n",
      "IBEX35      Significant              NaN  Not Significant  Not Significant   \n",
      "GDAT    Not Significant  Not Significant              NaN  Not Significant   \n",
      "ISEQ    Not Significant  Not Significant  Not Significant              NaN   \n",
      "PSI         Significant  Not Significant  Not Significant  Not Significant   \n",
      "\n",
      "                    PSI  \n",
      "IT40        Significant  \n",
      "IBEX35  Not Significant  \n",
      "GDAT    Not Significant  \n",
      "ISEQ    Not Significant  \n",
      "PSI                 NaN  \n"
     ]
    }
   ],
   "source": [
    "significance = pd.DataFrame(index=returns_clean.columns, columns=returns_clean.columns)\n",
    "\n",
    "alpha = 0.01\n",
    "\n",
    "for i in returns_clean.columns:\n",
    "    for j in returns_clean.columns:\n",
    "        if i != j:\n",
    "            corr, p_value = pearsonr(returns_clean[i], returns_clean[j])\n",
    "            if p_value < alpha:\n",
    "                significance.loc[i, j] = 'Significant'\n",
    "            else:\n",
    "                significance.loc[i, j] = 'Not Significant'\n",
    "\n",
    "print(\"Significance Interpretation:\")\n",
    "print(significance)\n"
   ]
  },
  {
   "cell_type": "code",
   "execution_count": 13,
   "id": "e26ed2b3",
   "metadata": {},
   "outputs": [
    {
     "data": {
      "image/png": "[encoded data removed]",
      "text/plain": [
       "<Figure size 720x576 with 1 Axes>"
      ]
     },
     "metadata": {
      "needs_background": "light"
     },
     "output_type": "display_data"
    }
   ],
   "source": [
    "import seaborn as sns\n",
    "import matplotlib.pyplot as plt\n",
    "\n",
    "plt.figure(figsize=(10, 8))\n",
    "heatmap = sns.heatmap(significance=='Significant', cmap='coolwarm', cbar=False)\n",
    "\n",
    "for i in range(len(significance.columns)):\n",
    "    for j in range(len(significance.columns)):\n",
    "        if significance.iloc[i, j] == 'Significant':\n",
    "            heatmap.text(j+0.5, i+0.5, '✓', ha='center', va='center', color='red', fontsize=12)\n",
    "        elif significance.iloc[i, j] == 'Not Significant':\n",
    "            heatmap.text(j+0.5, i+0.5, 'X', ha='center', va='center', color='blue', fontsize=12)\n",
    "\n",
    "plt.title(\"Significance Interpretation\")\n",
    "plt.xlabel(\"Indices\")\n",
    "plt.ylabel(\"Indices\")\n",
    "plt.show()\n"
   ]
  },
  {
   "cell_type": "code",
   "execution_count": 14,
   "id": "ef1871bc",
   "metadata": {},
   "outputs": [
    {
     "name": "stdout",
     "output_type": "stream",
     "text": [
      "Spearman Correlation Matrix:\n",
      "            IT40    IBEX35      GDAT      ISEQ       PSI\n",
      "IT40    1.000000  0.036918  0.001748  0.006184  0.063526\n",
      "IBEX35  0.036918  1.000000 -0.012877  0.008179 -0.014662\n",
      "GDAT    0.001748 -0.012877  1.000000  0.007846  0.022817\n",
      "ISEQ    0.006184  0.008179  0.007846  1.000000  0.019640\n",
      "PSI     0.063526 -0.014662  0.022817  0.019640  1.000000\n"
     ]
    }
   ],
   "source": [
    "\n",
    "spearman_correlation_matrix = returns_clean.corr(method='spearman')\n",
    "\n",
    "\n",
    "print(\"Spearman Correlation Matrix:\")\n",
    "print(spearman_correlation_matrix)"
   ]
  },
  {
   "cell_type": "code",
   "execution_count": 15,
   "id": "7518870d",
   "metadata": {},
   "outputs": [
    {
     "data": {
      "image/png": "[encoded data removed]",
      "text/plain": [
       "<Figure size 720x576 with 2 Axes>"
      ]
     },
     "metadata": {
      "needs_background": "light"
     },
     "output_type": "display_data"
    }
   ],
   "source": [
    "plt.figure(figsize=(10, 8))\n",
    "sns.heatmap(spearman_correlation_matrix, annot=True, cmap='coolwarm', fmt=\".2f\")\n",
    "plt.title(\"Spearman's Rank Correlation Coefficients Matrix\")\n",
    "plt.xlabel(\"Indices\")\n",
    "plt.ylabel(\"Indices\")\n",
    "plt.show()\n"
   ]
  },
  {
   "cell_type": "code",
   "execution_count": 16,
   "id": "d60881f9",
   "metadata": {},
   "outputs": [
    {
     "name": "stdout",
     "output_type": "stream",
     "text": [
      "Spearman P-values for Significance Testing:\n",
      "            IT40    IBEX35      GDAT      ISEQ       PSI\n",
      "IT40         NaN  0.041046  0.922945  0.732254  0.000435\n",
      "IBEX35  0.041046       NaN  0.476225  0.650921  0.417264\n",
      "GDAT    0.922945  0.476225       NaN   0.66424  0.206788\n",
      "ISEQ    0.732254  0.650921   0.66424       NaN  0.277198\n",
      "PSI     0.000435  0.417264  0.206788  0.277198       NaN\n"
     ]
    }
   ],
   "source": [
    "from scipy.stats import spearmanr\n",
    "\n",
    "spearman_p_values = pd.DataFrame(index=returns_clean.columns, columns=returns_clean.columns)\n",
    "\n",
    "\n",
    "for i in returns_clean.columns:\n",
    "    for j in returns_clean.columns:\n",
    "        if i != j:\n",
    "            spearman_corr, spearman_p_value = spearmanr(returns_clean[i], returns_clean[j])\n",
    "            spearman_p_values.loc[i, j] = spearman_p_value\n",
    "\n",
    "print(\"Spearman P-values for Significance Testing:\")\n",
    "print(spearman_p_values)\n"
   ]
  },
  {
   "cell_type": "code",
   "execution_count": 17,
   "id": "eff5282e",
   "metadata": {},
   "outputs": [
    {
     "name": "stdout",
     "output_type": "stream",
     "text": [
      "Spearman Significance Interpretation:\n",
      "                   IT40           IBEX35             GDAT             ISEQ  \\\n",
      "IT40                NaN  Not Significant  Not Significant  Not Significant   \n",
      "IBEX35  Not Significant              NaN  Not Significant  Not Significant   \n",
      "GDAT    Not Significant  Not Significant              NaN  Not Significant   \n",
      "ISEQ    Not Significant  Not Significant  Not Significant              NaN   \n",
      "PSI         Significant  Not Significant  Not Significant  Not Significant   \n",
      "\n",
      "                    PSI  \n",
      "IT40        Significant  \n",
      "IBEX35  Not Significant  \n",
      "GDAT    Not Significant  \n",
      "ISEQ    Not Significant  \n",
      "PSI                 NaN  \n"
     ]
    }
   ],
   "source": [
    "spearman_significance = pd.DataFrame(index=returns_clean.columns, columns=returns_clean.columns)\n",
    "alpha = 0.01\n",
    "\n",
    "\n",
    "for i in returns_clean.columns:\n",
    "    for j in returns_clean.columns:\n",
    "        if i != j:\n",
    "            spearman_corr, spearman_p_value = spearmanr(returns_clean[i], returns_clean[j])\n",
    "            if spearman_p_value < alpha:\n",
    "                spearman_significance.loc[i, j] = 'Significant'\n",
    "            else:\n",
    "                spearman_significance.loc[i, j] = 'Not Significant'\n",
    "\n",
    "\n",
    "print(\"Spearman Significance Interpretation:\")\n",
    "print(spearman_significance)\n"
   ]
  },
  {
   "cell_type": "code",
   "execution_count": 18,
   "id": "86bc8b93",
   "metadata": {},
   "outputs": [
    {
     "data": {
      "image/png": "[encoded data removed]",
      "text/plain": [
       "<Figure size 720x576 with 1 Axes>"
      ]
     },
     "metadata": {
      "needs_background": "light"
     },
     "output_type": "display_data"
    }
   ],
   "source": [
    "plt.figure(figsize=(10, 8))\n",
    "spearman_heatmap = sns.heatmap(spearman_significance=='Significant', cmap='coolwarm', cbar=False)\n",
    "\n",
    "\n",
    "for i in range(len(spearman_significance.columns)):\n",
    "    for j in range(len(spearman_significance.columns)):\n",
    "        if spearman_significance.iloc[i, j] == 'Significant':\n",
    "            spearman_heatmap.text(j+0.5, i+0.5, '✓', ha='center', va='center', color='red', fontsize=12)\n",
    "        elif spearman_significance.iloc[i, j] == 'Not Significant':\n",
    "            spearman_heatmap.text(j+0.5, i+0.5, 'X', ha='center', va='center', color='blue', fontsize=12)\n",
    "\n",
    "plt.title(\"Spearman Correlation Significance Interpretation\")\n",
    "plt.xlabel(\"Indices\")\n",
    "plt.ylabel(\"Indices\")\n",
    "plt.show()\n"
   ]
  },
  {
   "cell_type": "code",
   "execution_count": null,
   "id": "bdd85b99",
   "metadata": {},
   "outputs": [],
   "source": []
  }
 ],
 "metadata": {
  "kernelspec": {
   "display_name": "Python 3 (ipykernel)",
   "language": "python",
   "name": "python3"
  },
  "language_info": {
   "codemirror_mode": {
    "name": "ipython",
    "version": 3
   },
   "file_extension": ".py",
   "mimetype": "text/x-python",
   "name": "python",
   "nbconvert_exporter": "python",
   "pygments_lexer": "ipython3",
   "version": "3.9.12"
  }
 },
 "nbformat": 4,
 "nbformat_minor": 5
}
